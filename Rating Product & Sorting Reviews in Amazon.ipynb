{
 "cells": [
  {
   "cell_type": "code",
   "execution_count": 1,
   "metadata": {
    "collapsed": false,
    "jupyter": {
     "outputs_hidden": false
    }
   },
   "outputs": [],
   "source": [
    "###################################################\n",
    "# PROJECT: Rating Product & Sorting Reviews in Amazon\n",
    "###################################################\n"
   ]
  },
  {
   "cell_type": "code",
   "execution_count": null,
   "metadata": {
    "collapsed": false,
    "jupyter": {
     "outputs_hidden": false
    }
   },
   "outputs": [],
   "source": [
    "###################################################\n",
    "# BUSINESS PROBLEM\n",
    "###################################################\n",
    "\n",
    "#One of the most important problems in e-commerce is the correct calculation of the points given to the products after sales.\n",
    "#Another problem is the correct ordering of the comments given to the products.\n",
    "# THIS PROJECT IS TO SOLVE THESE 2 RATING AND SORTING PROBLEMS ABOVE"
   ]
  },
  {
   "cell_type": "code",
   "execution_count": null,
   "metadata": {
    "collapsed": false,
    "jupyter": {
     "outputs_hidden": false
    }
   },
   "outputs": [],
   "source": [
    "###################################################\n",
    "# DATASET\n",
    "###################################################\n",
    "\n",
    "# This Amazon dataset contains product infos, categories and some other metadata regarding the product.\n",
    "# Dataset contains  most reviewed products in the electronics category having most user ratings and reviews\n",
    "\n",
    "# Variables below:\n",
    "# reviewerID: User ID\n",
    "# asin: Product ID\n",
    "# reviewerName: Username\n",
    "# helpful: Level of helpful review\n",
    "# reviewText: Review itself\n",
    "# overall: Product rating\n",
    "# summary: Review Summary\n",
    "# unixReviewTime: Review Time\n",
    "# reviewTime: Raw Review Time\n",
    "# day_diff: Number of days since assessment\n",
    "# helpful_yes: The number of times the review was found useful\n",
    "# total_vote: Number of votes given to the review\n"
   ]
  },
  {
   "cell_type": "code",
   "execution_count": 2,
   "metadata": {
    "collapsed": false,
    "jupyter": {
     "outputs_hidden": false
    }
   },
   "outputs": [],
   "source": [
    "import matplotlib.pyplot as plt\n",
    "import pandas as pd\n",
    "import math\n",
    "import scipy.stats as st\n",
    "\n",
    "pd.set_option('display.max_columns', None)\n",
    "pd.set_option('display.max_rows', 10)\n",
    "pd.set_option('display.expand_frame_repr', False)\n",
    "pd.set_option('display.float_format', lambda x: '%.5f' % x)"
   ]
  },
  {
   "cell_type": "code",
   "execution_count": 3,
   "metadata": {
    "collapsed": false,
    "jupyter": {
     "outputs_hidden": false
    }
   },
   "outputs": [
    {
     "data": {
      "text/html": [
       "<div>\n",
       "<style scoped>\n",
       "    .dataframe tbody tr th:only-of-type {\n",
       "        vertical-align: middle;\n",
       "    }\n",
       "\n",
       "    .dataframe tbody tr th {\n",
       "        vertical-align: top;\n",
       "    }\n",
       "\n",
       "    .dataframe thead th {\n",
       "        text-align: right;\n",
       "    }\n",
       "</style>\n",
       "<table border=\"1\" class=\"dataframe\">\n",
       "  <thead>\n",
       "    <tr style=\"text-align: right;\">\n",
       "      <th></th>\n",
       "      <th>reviewerID</th>\n",
       "      <th>asin</th>\n",
       "      <th>reviewerName</th>\n",
       "      <th>helpful</th>\n",
       "      <th>reviewText</th>\n",
       "      <th>overall</th>\n",
       "      <th>summary</th>\n",
       "      <th>unixReviewTime</th>\n",
       "      <th>reviewTime</th>\n",
       "      <th>day_diff</th>\n",
       "      <th>helpful_yes</th>\n",
       "      <th>total_vote</th>\n",
       "    </tr>\n",
       "  </thead>\n",
       "  <tbody>\n",
       "    <tr>\n",
       "      <th>0</th>\n",
       "      <td>A3SBTW3WS4IQSN</td>\n",
       "      <td>B007WTAJTO</td>\n",
       "      <td>NaN</td>\n",
       "      <td>[0, 0]</td>\n",
       "      <td>No issues.</td>\n",
       "      <td>4.00000</td>\n",
       "      <td>Four Stars</td>\n",
       "      <td>1406073600</td>\n",
       "      <td>2014-07-23</td>\n",
       "      <td>138</td>\n",
       "      <td>0</td>\n",
       "      <td>0</td>\n",
       "    </tr>\n",
       "    <tr>\n",
       "      <th>1</th>\n",
       "      <td>A18K1ODH1I2MVB</td>\n",
       "      <td>B007WTAJTO</td>\n",
       "      <td>0mie</td>\n",
       "      <td>[0, 0]</td>\n",
       "      <td>Purchased this for my device, it worked as adv...</td>\n",
       "      <td>5.00000</td>\n",
       "      <td>MOAR SPACE!!!</td>\n",
       "      <td>1382659200</td>\n",
       "      <td>2013-10-25</td>\n",
       "      <td>409</td>\n",
       "      <td>0</td>\n",
       "      <td>0</td>\n",
       "    </tr>\n",
       "    <tr>\n",
       "      <th>2</th>\n",
       "      <td>A2FII3I2MBMUIA</td>\n",
       "      <td>B007WTAJTO</td>\n",
       "      <td>1K3</td>\n",
       "      <td>[0, 0]</td>\n",
       "      <td>it works as expected. I should have sprung for...</td>\n",
       "      <td>4.00000</td>\n",
       "      <td>nothing to really say....</td>\n",
       "      <td>1356220800</td>\n",
       "      <td>2012-12-23</td>\n",
       "      <td>715</td>\n",
       "      <td>0</td>\n",
       "      <td>0</td>\n",
       "    </tr>\n",
       "    <tr>\n",
       "      <th>3</th>\n",
       "      <td>A3H99DFEG68SR</td>\n",
       "      <td>B007WTAJTO</td>\n",
       "      <td>1m2</td>\n",
       "      <td>[0, 0]</td>\n",
       "      <td>This think has worked out great.Had a diff. br...</td>\n",
       "      <td>5.00000</td>\n",
       "      <td>Great buy at this price!!!  *** UPDATE</td>\n",
       "      <td>1384992000</td>\n",
       "      <td>2013-11-21</td>\n",
       "      <td>382</td>\n",
       "      <td>0</td>\n",
       "      <td>0</td>\n",
       "    </tr>\n",
       "    <tr>\n",
       "      <th>4</th>\n",
       "      <td>A375ZM4U047O79</td>\n",
       "      <td>B007WTAJTO</td>\n",
       "      <td>2&amp;amp;1/2Men</td>\n",
       "      <td>[0, 0]</td>\n",
       "      <td>Bought it with Retail Packaging, arrived legit...</td>\n",
       "      <td>5.00000</td>\n",
       "      <td>best deal around</td>\n",
       "      <td>1373673600</td>\n",
       "      <td>2013-07-13</td>\n",
       "      <td>513</td>\n",
       "      <td>0</td>\n",
       "      <td>0</td>\n",
       "    </tr>\n",
       "  </tbody>\n",
       "</table>\n",
       "</div>"
      ],
      "text/plain": [
       "       reviewerID        asin  reviewerName helpful                                         reviewText  overall                                 summary  unixReviewTime  reviewTime  day_diff  helpful_yes  total_vote\n",
       "0  A3SBTW3WS4IQSN  B007WTAJTO           NaN  [0, 0]                                         No issues.  4.00000                              Four Stars      1406073600  2014-07-23       138            0           0\n",
       "1  A18K1ODH1I2MVB  B007WTAJTO          0mie  [0, 0]  Purchased this for my device, it worked as adv...  5.00000                           MOAR SPACE!!!      1382659200  2013-10-25       409            0           0\n",
       "2  A2FII3I2MBMUIA  B007WTAJTO           1K3  [0, 0]  it works as expected. I should have sprung for...  4.00000               nothing to really say....      1356220800  2012-12-23       715            0           0\n",
       "3   A3H99DFEG68SR  B007WTAJTO           1m2  [0, 0]  This think has worked out great.Had a diff. br...  5.00000  Great buy at this price!!!  *** UPDATE      1384992000  2013-11-21       382            0           0\n",
       "4  A375ZM4U047O79  B007WTAJTO  2&amp;1/2Men  [0, 0]  Bought it with Retail Packaging, arrived legit...  5.00000                        best deal around      1373673600  2013-07-13       513            0           0"
      ]
     },
     "execution_count": 3,
     "metadata": {},
     "output_type": "execute_result"
    }
   ],
   "source": [
    "df = pd.read_csv(\"amazon_review.csv\")\n",
    "df.head()"
   ]
  },
  {
   "cell_type": "code",
   "execution_count": null,
   "metadata": {
    "collapsed": false,
    "jupyter": {
     "outputs_hidden": false
    }
   },
   "outputs": [],
   "source": [
    "###################################################\n",
    "# TASK 1: Calculate Average Rating Based on Current Comments and Compare with Existing Average Rating.\n",
    "###################################################"
   ]
  },
  {
   "cell_type": "code",
   "execution_count": 4,
   "metadata": {
    "collapsed": false,
    "jupyter": {
     "outputs_hidden": false
    }
   },
   "outputs": [
    {
     "data": {
      "text/plain": [
       "4.587589013224822"
      ]
     },
     "execution_count": 4,
     "metadata": {},
     "output_type": "execute_result"
    }
   ],
   "source": [
    "df[\"overall\"].mean()"
   ]
  },
  {
   "cell_type": "code",
   "execution_count": 9,
   "metadata": {
    "collapsed": false,
    "jupyter": {
     "outputs_hidden": false
    }
   },
   "outputs": [],
   "source": [
    "df['reviewTime'] = pd.to_datetime (df['reviewTime'], dayfirst=True)"
   ]
  },
  {
   "cell_type": "code",
   "execution_count": 10,
   "outputs": [],
   "source": [
    "current_date = pd.to_datetime (str (df['reviewTime'].max ()))"
   ],
   "metadata": {
    "collapsed": false
   }
  },
  {
   "cell_type": "code",
   "execution_count": 11,
   "outputs": [],
   "source": [
    "df[\"day_diff\"] = (current_date - df['reviewTime']).dt.days"
   ],
   "metadata": {
    "collapsed": false
   }
  },
  {
   "cell_type": "code",
   "execution_count": 12,
   "outputs": [],
   "source": [
    "# calculation of time-based weighted average\n",
    "def time_based_weighted_average(dataframe, w1=50, w2=25, w3=15, w4=10):\n",
    "    return dataframe.loc[dataframe[\"day_diff\"] <= dataframe[\"day_diff\"].quantile (0.25), \"overall\"].mean () * w1 / 100 + \\\n",
    "           dataframe.loc[(dataframe[\"day_diff\"] > dataframe[\"day_diff\"].quantile (0.25)) & (\n",
    "            dataframe[\"day_diff\"] <= dataframe[\"day_diff\"].quantile (0.50)), \"overall\"].mean () * w2 / 100 + \\\n",
    "           dataframe.loc[(dataframe[\"day_diff\"] > dataframe[\"day_diff\"].quantile (0.50)) & (\n",
    "            dataframe[\"day_diff\"] <= dataframe[\"day_diff\"].quantile (0.75)), \"overall\"].mean () * w3 / 100 + \\\n",
    "           dataframe.loc[(dataframe[\"day_diff\"] > dataframe[\"day_diff\"].quantile (0.75)), \"overall\"].mean () * w4 / 100"
   ],
   "metadata": {
    "collapsed": false
   }
  },
  {
   "cell_type": "code",
   "execution_count": 13,
   "outputs": [
    {
     "data": {
      "text/plain": "4.637306192407316"
     },
     "execution_count": 13,
     "metadata": {},
     "output_type": "execute_result"
    }
   ],
   "source": [
    "time_based_weighted_average(df)"
   ],
   "metadata": {
    "collapsed": false
   }
  },
  {
   "cell_type": "code",
   "execution_count": 14,
   "outputs": [
    {
     "data": {
      "text/plain": "4.595593165128118"
     },
     "execution_count": 14,
     "metadata": {},
     "output_type": "execute_result"
    }
   ],
   "source": [
    "# Another time based weighted average\n",
    "time_based_weighted_average(df, w1=28, w2=26, w3=24, w4=22)"
   ],
   "metadata": {
    "collapsed": false
   }
  },
  {
   "cell_type": "code",
   "execution_count": null,
   "outputs": [],
   "source": [
    "#TASK 2: Specify top 20 Reviews for the Product which can be Displayed on the Product Detail Page"
   ],
   "metadata": {
    "collapsed": false
   }
  },
  {
   "cell_type": "code",
   "execution_count": 15,
   "outputs": [
    {
     "data": {
      "text/plain": "   reviewerName  overall                                 summary  helpful_yes  helpful_no  total_vote reviewTime\n0           NaN  4.00000                              Four Stars            0           0           0 2014-07-23\n1          0mie  5.00000                           MOAR SPACE!!!            0           0           0 2013-10-25\n2           1K3  4.00000               nothing to really say....            0           0           0 2012-12-23\n3           1m2  5.00000  Great buy at this price!!!  *** UPDATE            0           0           0 2013-11-21\n4  2&amp;1/2Men  5.00000                        best deal around            0           0           0 2013-07-13",
      "text/html": "<div>\n<style scoped>\n    .dataframe tbody tr th:only-of-type {\n        vertical-align: middle;\n    }\n\n    .dataframe tbody tr th {\n        vertical-align: top;\n    }\n\n    .dataframe thead th {\n        text-align: right;\n    }\n</style>\n<table border=\"1\" class=\"dataframe\">\n  <thead>\n    <tr style=\"text-align: right;\">\n      <th></th>\n      <th>reviewerName</th>\n      <th>overall</th>\n      <th>summary</th>\n      <th>helpful_yes</th>\n      <th>helpful_no</th>\n      <th>total_vote</th>\n      <th>reviewTime</th>\n    </tr>\n  </thead>\n  <tbody>\n    <tr>\n      <th>0</th>\n      <td>NaN</td>\n      <td>4.00000</td>\n      <td>Four Stars</td>\n      <td>0</td>\n      <td>0</td>\n      <td>0</td>\n      <td>2014-07-23</td>\n    </tr>\n    <tr>\n      <th>1</th>\n      <td>0mie</td>\n      <td>5.00000</td>\n      <td>MOAR SPACE!!!</td>\n      <td>0</td>\n      <td>0</td>\n      <td>0</td>\n      <td>2013-10-25</td>\n    </tr>\n    <tr>\n      <th>2</th>\n      <td>1K3</td>\n      <td>4.00000</td>\n      <td>nothing to really say....</td>\n      <td>0</td>\n      <td>0</td>\n      <td>0</td>\n      <td>2012-12-23</td>\n    </tr>\n    <tr>\n      <th>3</th>\n      <td>1m2</td>\n      <td>5.00000</td>\n      <td>Great buy at this price!!!  *** UPDATE</td>\n      <td>0</td>\n      <td>0</td>\n      <td>0</td>\n      <td>2013-11-21</td>\n    </tr>\n    <tr>\n      <th>4</th>\n      <td>2&amp;amp;1/2Men</td>\n      <td>5.00000</td>\n      <td>best deal around</td>\n      <td>0</td>\n      <td>0</td>\n      <td>0</td>\n      <td>2013-07-13</td>\n    </tr>\n  </tbody>\n</table>\n</div>"
     },
     "execution_count": 15,
     "metadata": {},
     "output_type": "execute_result"
    }
   ],
   "source": [
    "# Here we create a new variable as \"helpful_no\" , in order to see unhelpfully reviews\n",
    "df[\"helpful_no\"] = df[\"total_vote\"] - df[\"helpful_yes\"]\n",
    "\n",
    "df = df[[\"reviewerName\", \"overall\", \"summary\", \"helpful_yes\", \"helpful_no\", \"total_vote\", \"reviewTime\"]]\n",
    "# Now we cam see the updated dataframe\n",
    "df.head()"
   ],
   "metadata": {
    "collapsed": false
   }
  },
  {
   "cell_type": "code",
   "execution_count": 16,
   "outputs": [],
   "source": [
    "# We should calculate :  score_pos_neg_diff, score_average_rating and wilson_lower_bound scores\n",
    "\n",
    "#wilson_lower_bound function\n",
    "def wilson_lower_bound(up, down, confidence=0.95):\n",
    "    \"\"\"\n",
    "    Wilson Lower Bound Score hesapla\n",
    "\n",
    "    - Bernoulli parametresi p için hesaplanacak güven aralığının alt sınırı WLB skoru olarak kabul edilir.\n",
    "    - Hesaplanacak skor ürün sıralaması için kullanılır.\n",
    "    - Not:\n",
    "    Eğer skorlar 1-5 arasıdaysa 1-3 negatif, 4-5 pozitif olarak işaretlenir ve bernoulli'ye uygun hale getirilebilir.\n",
    "    Bu beraberinde bazı problemleri de getirir. Bu sebeple bayesian average rating yapmak gerekir.\n",
    "\n",
    "    Parameters\n",
    "    ----------\n",
    "    up: int\n",
    "        up count\n",
    "    down: int\n",
    "        down count\n",
    "    confidence: float\n",
    "        confidence\n",
    "\n",
    "    Returns\n",
    "    -------\n",
    "    wilson score: float\n",
    "\n",
    "    \"\"\"\n",
    "    n = up + down\n",
    "    if n == 0:\n",
    "        return 0\n",
    "    z = st.norm.ppf(1 - (1 - confidence) / 2)\n",
    "    phat = 1.0 * up / n\n",
    "    return (phat + z * z / (2 * n) - z * math.sqrt((phat * (1 - phat) + z * z / (4 * n)) / n)) / (1 + z * z / n)"
   ],
   "metadata": {
    "collapsed": false
   }
  },
  {
   "cell_type": "code",
   "execution_count": 17,
   "outputs": [],
   "source": [
    "def score_up_down_diff(up, down):\n",
    "    return up - down\n",
    "\n",
    "\n",
    "def score_average_rating(up, down):\n",
    "    if up + down == 0:\n",
    "        return 0\n",
    "    return up / (up + down)"
   ],
   "metadata": {
    "collapsed": false
   }
  },
  {
   "cell_type": "code",
   "execution_count": 19,
   "outputs": [
    {
     "data": {
      "text/plain": "                    reviewerName  overall                                            summary  helpful_yes  helpful_no  total_vote reviewTime  score_pos_neg_diff\n2031        Hyoun Kim \"Faluzure\"  5.00000  UPDATED - Great w/ Galaxy S4 & Galaxy Tab 4 10...         1952          68        2020 2013-01-05                1884\n4212                 SkincareCEO  1.00000  1 Star reviews - Micro SDXC card unmounts itse...         1568         126        1694 2013-05-08                1442\n3449           NLee the Engineer  5.00000  Top of the class among all (budget-priced) mic...         1428          77        1505 2012-09-26                1351\n317      Amazon Customer \"Kelly\"  1.00000                                Warning, read this!          422          73         495 2012-02-09                 349\n3981  R. Sutton, Jr. \"RWSynergy\"  5.00000  Resolving confusion between \"Mobile Ultra\" and...          112          27         139 2012-10-22                  85",
      "text/html": "<div>\n<style scoped>\n    .dataframe tbody tr th:only-of-type {\n        vertical-align: middle;\n    }\n\n    .dataframe tbody tr th {\n        vertical-align: top;\n    }\n\n    .dataframe thead th {\n        text-align: right;\n    }\n</style>\n<table border=\"1\" class=\"dataframe\">\n  <thead>\n    <tr style=\"text-align: right;\">\n      <th></th>\n      <th>reviewerName</th>\n      <th>overall</th>\n      <th>summary</th>\n      <th>helpful_yes</th>\n      <th>helpful_no</th>\n      <th>total_vote</th>\n      <th>reviewTime</th>\n      <th>score_pos_neg_diff</th>\n    </tr>\n  </thead>\n  <tbody>\n    <tr>\n      <th>2031</th>\n      <td>Hyoun Kim \"Faluzure\"</td>\n      <td>5.00000</td>\n      <td>UPDATED - Great w/ Galaxy S4 &amp; Galaxy Tab 4 10...</td>\n      <td>1952</td>\n      <td>68</td>\n      <td>2020</td>\n      <td>2013-01-05</td>\n      <td>1884</td>\n    </tr>\n    <tr>\n      <th>4212</th>\n      <td>SkincareCEO</td>\n      <td>1.00000</td>\n      <td>1 Star reviews - Micro SDXC card unmounts itse...</td>\n      <td>1568</td>\n      <td>126</td>\n      <td>1694</td>\n      <td>2013-05-08</td>\n      <td>1442</td>\n    </tr>\n    <tr>\n      <th>3449</th>\n      <td>NLee the Engineer</td>\n      <td>5.00000</td>\n      <td>Top of the class among all (budget-priced) mic...</td>\n      <td>1428</td>\n      <td>77</td>\n      <td>1505</td>\n      <td>2012-09-26</td>\n      <td>1351</td>\n    </tr>\n    <tr>\n      <th>317</th>\n      <td>Amazon Customer \"Kelly\"</td>\n      <td>1.00000</td>\n      <td>Warning, read this!</td>\n      <td>422</td>\n      <td>73</td>\n      <td>495</td>\n      <td>2012-02-09</td>\n      <td>349</td>\n    </tr>\n    <tr>\n      <th>3981</th>\n      <td>R. Sutton, Jr. \"RWSynergy\"</td>\n      <td>5.00000</td>\n      <td>Resolving confusion between \"Mobile Ultra\" and...</td>\n      <td>112</td>\n      <td>27</td>\n      <td>139</td>\n      <td>2012-10-22</td>\n      <td>85</td>\n    </tr>\n  </tbody>\n</table>\n</div>"
     },
     "execution_count": 19,
     "metadata": {},
     "output_type": "execute_result"
    }
   ],
   "source": [
    "#####################\n",
    "# score_pos_neg_diff\n",
    "#####################\n",
    "\n",
    "\n",
    "df[\"score_pos_neg_diff\"] = df.apply(lambda x: score_up_down_diff(x[\"helpful_yes\"], x[\"helpful_no\"]), axis=1)\n",
    "df.sort_values(\"score_pos_neg_diff\", ascending=False).head()"
   ],
   "metadata": {
    "collapsed": false
   }
  },
  {
   "cell_type": "code",
   "execution_count": 20,
   "outputs": [
    {
     "data": {
      "text/plain": "            reviewerName  overall                     summary  helpful_yes  helpful_no  total_vote reviewTime  score_pos_neg_diff  score_average_rating\n4277               S. Q.  5.00000                   Perfect!!            1           0           1 2012-12-19                   1               1.00000\n2881          Lou Thomas  5.00000  Nexus One Loves This Card!            1           0           1 2012-01-10                   1               1.00000\n1073          C. Sanchez  5.00000     Tons of space for phone            1           0           1 2013-08-13                   1               1.00000\n445   Apache \"Elizabeth\"  4.00000         Amazon Great Prices            1           0           1 2013-12-18                   1               1.00000\n3923     Rock Your Roots  5.00000           What more to say?            1           0           1 2013-12-30                   1               1.00000",
      "text/html": "<div>\n<style scoped>\n    .dataframe tbody tr th:only-of-type {\n        vertical-align: middle;\n    }\n\n    .dataframe tbody tr th {\n        vertical-align: top;\n    }\n\n    .dataframe thead th {\n        text-align: right;\n    }\n</style>\n<table border=\"1\" class=\"dataframe\">\n  <thead>\n    <tr style=\"text-align: right;\">\n      <th></th>\n      <th>reviewerName</th>\n      <th>overall</th>\n      <th>summary</th>\n      <th>helpful_yes</th>\n      <th>helpful_no</th>\n      <th>total_vote</th>\n      <th>reviewTime</th>\n      <th>score_pos_neg_diff</th>\n      <th>score_average_rating</th>\n    </tr>\n  </thead>\n  <tbody>\n    <tr>\n      <th>4277</th>\n      <td>S. Q.</td>\n      <td>5.00000</td>\n      <td>Perfect!!</td>\n      <td>1</td>\n      <td>0</td>\n      <td>1</td>\n      <td>2012-12-19</td>\n      <td>1</td>\n      <td>1.00000</td>\n    </tr>\n    <tr>\n      <th>2881</th>\n      <td>Lou Thomas</td>\n      <td>5.00000</td>\n      <td>Nexus One Loves This Card!</td>\n      <td>1</td>\n      <td>0</td>\n      <td>1</td>\n      <td>2012-01-10</td>\n      <td>1</td>\n      <td>1.00000</td>\n    </tr>\n    <tr>\n      <th>1073</th>\n      <td>C. Sanchez</td>\n      <td>5.00000</td>\n      <td>Tons of space for phone</td>\n      <td>1</td>\n      <td>0</td>\n      <td>1</td>\n      <td>2013-08-13</td>\n      <td>1</td>\n      <td>1.00000</td>\n    </tr>\n    <tr>\n      <th>445</th>\n      <td>Apache \"Elizabeth\"</td>\n      <td>4.00000</td>\n      <td>Amazon Great Prices</td>\n      <td>1</td>\n      <td>0</td>\n      <td>1</td>\n      <td>2013-12-18</td>\n      <td>1</td>\n      <td>1.00000</td>\n    </tr>\n    <tr>\n      <th>3923</th>\n      <td>Rock Your Roots</td>\n      <td>5.00000</td>\n      <td>What more to say?</td>\n      <td>1</td>\n      <td>0</td>\n      <td>1</td>\n      <td>2013-12-30</td>\n      <td>1</td>\n      <td>1.00000</td>\n    </tr>\n  </tbody>\n</table>\n</div>"
     },
     "execution_count": 20,
     "metadata": {},
     "output_type": "execute_result"
    }
   ],
   "source": [
    "# score_average_rating\n",
    "df[\"score_average_rating\"] = df.apply(lambda x: score_average_rating(x[\"helpful_yes\"], x[\"helpful_no\"]), axis=1)\n",
    "df.sort_values(\"score_average_rating\", ascending=False).head()"
   ],
   "metadata": {
    "collapsed": false
   }
  },
  {
   "cell_type": "code",
   "execution_count": 21,
   "outputs": [
    {
     "data": {
      "text/plain": "                              reviewerName  overall                                            summary  helpful_yes  helpful_no  total_vote reviewTime  score_pos_neg_diff  score_average_rating  wilson_lower_bound\n2031                  Hyoun Kim \"Faluzure\"  5.00000  UPDATED - Great w/ Galaxy S4 & Galaxy Tab 4 10...         1952          68        2020 2013-01-05                1884               0.96634             0.95754\n3449                     NLee the Engineer  5.00000  Top of the class among all (budget-priced) mic...         1428          77        1505 2012-09-26                1351               0.94884             0.93652\n4212                           SkincareCEO  1.00000  1 Star reviews - Micro SDXC card unmounts itse...         1568         126        1694 2013-05-08                1442               0.92562             0.91214\n317                Amazon Customer \"Kelly\"  1.00000                                Warning, read this!          422          73         495 2012-02-09                 349               0.85253             0.81858\n4672                               Twister  5.00000  Super high capacity!!!  Excellent price (on Am...           45           4          49 2014-07-03                  41               0.91837             0.80811\n...                                    ...      ...                                                ...          ...         ...         ...        ...                 ...                   ...                 ...\n1072                        Crysis Complex  5.00000               Works wonders for the Galaxy Note 2!            5           0           5 2012-05-10                   5               1.00000             0.56552\n2583                               J. Wong  5.00000                  Works Great with a GoPro 3 Black!            5           0           5 2013-08-06                   5               1.00000             0.56552\n121                                 A. Lee  5.00000                     ready for use on the Galaxy S3            5           0           5 2012-05-09                   5               1.00000             0.56552\n1142  Daniel Pham(Danpham_X @ yahoo.  com)  5.00000                          Great large capacity card            5           0           5 2014-02-04                   5               1.00000             0.56552\n1753                             G. Becker  5.00000                    Use Nothing Other Than the Best            5           0           5 2012-10-22                   5               1.00000             0.56552\n\n[20 rows x 10 columns]",
      "text/html": "<div>\n<style scoped>\n    .dataframe tbody tr th:only-of-type {\n        vertical-align: middle;\n    }\n\n    .dataframe tbody tr th {\n        vertical-align: top;\n    }\n\n    .dataframe thead th {\n        text-align: right;\n    }\n</style>\n<table border=\"1\" class=\"dataframe\">\n  <thead>\n    <tr style=\"text-align: right;\">\n      <th></th>\n      <th>reviewerName</th>\n      <th>overall</th>\n      <th>summary</th>\n      <th>helpful_yes</th>\n      <th>helpful_no</th>\n      <th>total_vote</th>\n      <th>reviewTime</th>\n      <th>score_pos_neg_diff</th>\n      <th>score_average_rating</th>\n      <th>wilson_lower_bound</th>\n    </tr>\n  </thead>\n  <tbody>\n    <tr>\n      <th>2031</th>\n      <td>Hyoun Kim \"Faluzure\"</td>\n      <td>5.00000</td>\n      <td>UPDATED - Great w/ Galaxy S4 &amp; Galaxy Tab 4 10...</td>\n      <td>1952</td>\n      <td>68</td>\n      <td>2020</td>\n      <td>2013-01-05</td>\n      <td>1884</td>\n      <td>0.96634</td>\n      <td>0.95754</td>\n    </tr>\n    <tr>\n      <th>3449</th>\n      <td>NLee the Engineer</td>\n      <td>5.00000</td>\n      <td>Top of the class among all (budget-priced) mic...</td>\n      <td>1428</td>\n      <td>77</td>\n      <td>1505</td>\n      <td>2012-09-26</td>\n      <td>1351</td>\n      <td>0.94884</td>\n      <td>0.93652</td>\n    </tr>\n    <tr>\n      <th>4212</th>\n      <td>SkincareCEO</td>\n      <td>1.00000</td>\n      <td>1 Star reviews - Micro SDXC card unmounts itse...</td>\n      <td>1568</td>\n      <td>126</td>\n      <td>1694</td>\n      <td>2013-05-08</td>\n      <td>1442</td>\n      <td>0.92562</td>\n      <td>0.91214</td>\n    </tr>\n    <tr>\n      <th>317</th>\n      <td>Amazon Customer \"Kelly\"</td>\n      <td>1.00000</td>\n      <td>Warning, read this!</td>\n      <td>422</td>\n      <td>73</td>\n      <td>495</td>\n      <td>2012-02-09</td>\n      <td>349</td>\n      <td>0.85253</td>\n      <td>0.81858</td>\n    </tr>\n    <tr>\n      <th>4672</th>\n      <td>Twister</td>\n      <td>5.00000</td>\n      <td>Super high capacity!!!  Excellent price (on Am...</td>\n      <td>45</td>\n      <td>4</td>\n      <td>49</td>\n      <td>2014-07-03</td>\n      <td>41</td>\n      <td>0.91837</td>\n      <td>0.80811</td>\n    </tr>\n    <tr>\n      <th>...</th>\n      <td>...</td>\n      <td>...</td>\n      <td>...</td>\n      <td>...</td>\n      <td>...</td>\n      <td>...</td>\n      <td>...</td>\n      <td>...</td>\n      <td>...</td>\n      <td>...</td>\n    </tr>\n    <tr>\n      <th>1072</th>\n      <td>Crysis Complex</td>\n      <td>5.00000</td>\n      <td>Works wonders for the Galaxy Note 2!</td>\n      <td>5</td>\n      <td>0</td>\n      <td>5</td>\n      <td>2012-05-10</td>\n      <td>5</td>\n      <td>1.00000</td>\n      <td>0.56552</td>\n    </tr>\n    <tr>\n      <th>2583</th>\n      <td>J. Wong</td>\n      <td>5.00000</td>\n      <td>Works Great with a GoPro 3 Black!</td>\n      <td>5</td>\n      <td>0</td>\n      <td>5</td>\n      <td>2013-08-06</td>\n      <td>5</td>\n      <td>1.00000</td>\n      <td>0.56552</td>\n    </tr>\n    <tr>\n      <th>121</th>\n      <td>A. Lee</td>\n      <td>5.00000</td>\n      <td>ready for use on the Galaxy S3</td>\n      <td>5</td>\n      <td>0</td>\n      <td>5</td>\n      <td>2012-05-09</td>\n      <td>5</td>\n      <td>1.00000</td>\n      <td>0.56552</td>\n    </tr>\n    <tr>\n      <th>1142</th>\n      <td>Daniel Pham(Danpham_X @ yahoo.  com)</td>\n      <td>5.00000</td>\n      <td>Great large capacity card</td>\n      <td>5</td>\n      <td>0</td>\n      <td>5</td>\n      <td>2014-02-04</td>\n      <td>5</td>\n      <td>1.00000</td>\n      <td>0.56552</td>\n    </tr>\n    <tr>\n      <th>1753</th>\n      <td>G. Becker</td>\n      <td>5.00000</td>\n      <td>Use Nothing Other Than the Best</td>\n      <td>5</td>\n      <td>0</td>\n      <td>5</td>\n      <td>2012-10-22</td>\n      <td>5</td>\n      <td>1.00000</td>\n      <td>0.56552</td>\n    </tr>\n  </tbody>\n</table>\n<p>20 rows × 10 columns</p>\n</div>"
     },
     "execution_count": 21,
     "metadata": {},
     "output_type": "execute_result"
    }
   ],
   "source": [
    "# wilson_lower_bound\n",
    "df[\"wilson_lower_bound\"] = df.apply(lambda x: wilson_lower_bound(x[\"helpful_yes\"], x[\"helpful_no\"]), axis=1)\n",
    "\n",
    "# Let's see the top 20\n",
    "df.sort_values(\"wilson_lower_bound\", ascending=False).head(20)"
   ],
   "metadata": {
    "collapsed": false
   }
  },
  {
   "cell_type": "code",
   "execution_count": null,
   "outputs": [],
   "source": [],
   "metadata": {
    "collapsed": false
   }
  }
 ],
 "metadata": {
  "kernelspec": {
   "display_name": "Python 3 (ipykernel)",
   "language": "python",
   "name": "python3"
  },
  "language_info": {
   "codemirror_mode": {
    "name": "ipython",
    "version": 3
   },
   "file_extension": ".py",
   "mimetype": "text/x-python",
   "name": "python",
   "nbconvert_exporter": "python",
   "pygments_lexer": "ipython3",
   "version": "3.7.4"
  }
 },
 "nbformat": 4,
 "nbformat_minor": 4
}
